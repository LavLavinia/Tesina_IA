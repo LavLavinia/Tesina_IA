{
 "cells": [
  {
   "cell_type": "markdown",
   "id": "7f786be7",
   "metadata": {},
   "source": [
    "# Importazione della libreria OpenCV attraverso il modulo 'cv2':"
   ]
  },
  {
   "cell_type": "code",
   "execution_count": 1,
   "id": "9766c17a",
   "metadata": {},
   "outputs": [],
   "source": [
    "import cv2"
   ]
  },
  {
   "cell_type": "markdown",
   "id": "4bb67c60",
   "metadata": {},
   "source": [
    "# Caricamento del file 'classifier' contenente i dati del classificatore:"
   ]
  },
  {
   "cell_type": "code",
   "execution_count": 2,
   "id": "02704a04",
   "metadata": {},
   "outputs": [],
   "source": [
    "classifier = cv2.CascadeClassifier(cv2.data.haarcascades + \"haarcascade_frontalface_default.xml\")"
   ]
  },
  {
   "cell_type": "markdown",
   "id": "b9f44a08",
   "metadata": {},
   "source": [
    "# Creiazione (attraverso il modulo 'cv2') dell'oggetto 'immagine' che punta al path della foto scelta:"
   ]
  },
  {
   "cell_type": "code",
   "execution_count": 3,
   "id": "9124cc5d",
   "metadata": {},
   "outputs": [],
   "source": [
    "immagine = cv2.imread(\"C:\\\\Users\\\\lavin\\\\Desktop\\\\Tesina IA\\\\test1.jpg\",)"
   ]
  },
  {
   "cell_type": "markdown",
   "id": "c76764f4",
   "metadata": {},
   "source": [
    "# Conversione (grazie al modulo 'cv2') dell'oggetto 'immagine' nell'oggetto 'immagine_in_scala_di_grigi' poiché il classificatore utilizzato lavora esclusivamente su immagini in scala di grigi:"
   ]
  },
  {
   "cell_type": "code",
   "execution_count": 4,
   "id": "86390f89",
   "metadata": {},
   "outputs": [],
   "source": [
    "immagine_in_scala_di_grigi = cv2.cvtColor(immagine, cv2.COLOR_BGR2GRAY)"
   ]
  },
  {
   "cell_type": "markdown",
   "id": "6499c39d",
   "metadata": {},
   "source": [
    "# Applicazione del classificatore salvato in 'classifier' all'oggetto 'immagine_in_scala_di_grigi' con il metodo 'detectMultiScale':"
   ]
  },
  {
   "cell_type": "code",
   "execution_count": 5,
   "id": "e6bd6d8c",
   "metadata": {},
   "outputs": [],
   "source": [
    "faces = classifier.detectMultiScale(immagine_in_scala_di_grigi, scaleFactor = 1.01, minNeighbors = 40)"
   ]
  },
  {
   "cell_type": "markdown",
   "id": "d873e5e4",
   "metadata": {},
   "source": [
    "# Creazione dei rettangoli attorno ad ognuno dei volti identificati dall'algoritmo attraverso la lista 'faces' che contiene le coordinate di ciascun volto rilevato:"
   ]
  },
  {
   "cell_type": "code",
   "execution_count": 6,
   "id": "3138eb54",
   "metadata": {},
   "outputs": [],
   "source": [
    "for x, y, w, h in faces:\n",
    "    immagine = cv2.rectangle(immagine, (x, y), (x + w, y + h), (0, 255, 0), 3)"
   ]
  },
  {
   "cell_type": "markdown",
   "id": "bd872c28",
   "metadata": {},
   "source": [
    "# Ridimensionamento dell'oggetto 'immagine' con una nuova larghezza e altezza (in un formato tupla) nell'oggetto 'face_detection':"
   ]
  },
  {
   "cell_type": "code",
   "execution_count": 7,
   "id": "fcb6f4be",
   "metadata": {},
   "outputs": [],
   "source": [
    "face_detection = cv2.resize(immagine, (int(immagine.shape[1]/2), int(immagine.shape[0]/2)))"
   ]
  },
  {
   "cell_type": "markdown",
   "id": "fdc135ae",
   "metadata": {},
   "source": [
    "# La funzione 'imshow()' serve per visualizzare l'immagine in Python su una finestra esterna:"
   ]
  },
  {
   "cell_type": "code",
   "execution_count": 8,
   "id": "693872bf",
   "metadata": {},
   "outputs": [],
   "source": [
    "cv2.imshow(\"La tua foto con Face Detection:\", face_detection)"
   ]
  },
  {
   "cell_type": "markdown",
   "id": "d9f63535",
   "metadata": {},
   "source": [
    "# La funzione 'waitKey()' serve a sospendere l'esecuzione del codice. La variabile che passiamo indica il tempo di attesa; se zero il programma attenderà un segnale per un tempo infinito:"
   ]
  },
  {
   "cell_type": "code",
   "execution_count": 9,
   "id": "3c5b7df0",
   "metadata": {},
   "outputs": [
    {
     "data": {
      "text/plain": [
       "-1"
      ]
     },
     "execution_count": 9,
     "metadata": {},
     "output_type": "execute_result"
    }
   ],
   "source": [
    "cv2.waitKey(0)\n",
    "# cv2.destroyAllWindows()"
   ]
  },
  {
   "cell_type": "code",
   "execution_count": null,
   "id": "ca5fccbe",
   "metadata": {},
   "outputs": [],
   "source": []
  },
  {
   "cell_type": "markdown",
   "id": "df80ef16",
   "metadata": {},
   "source": [
    "# Osservazioni:"
   ]
  },
  {
   "cell_type": "code",
   "execution_count": 10,
   "id": "f9cd8252",
   "metadata": {},
   "outputs": [],
   "source": [
    "# abbassare lo scaleFactor fino a quando non vengono rilevati tutti i volti\n",
    "# aumentare il minNeighbors fino a quando tutti i falsi positivi non scompaiono\n",
    "# infatti, con minNeighbors = 40 scompaiono i falsi positivi\n",
    "# ma con scaleFactor = 1.01 restano 2 volti non rilevati. Per riuscire a rilevare tutti i volti dovremmo fissare:\n",
    "# minNeighbors = 2 il che porterebbe ad avere moltissimi falsi positivi."
   ]
  }
 ],
 "metadata": {
  "kernelspec": {
   "display_name": "Python 3 (ipykernel)",
   "language": "python",
   "name": "python3"
  },
  "language_info": {
   "codemirror_mode": {
    "name": "ipython",
    "version": 3
   },
   "file_extension": ".py",
   "mimetype": "text/x-python",
   "name": "python",
   "nbconvert_exporter": "python",
   "pygments_lexer": "ipython3",
   "version": "3.9.7"
  }
 },
 "nbformat": 4,
 "nbformat_minor": 5
}
